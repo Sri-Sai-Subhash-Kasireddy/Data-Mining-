{
 "cells": [
  {
   "cell_type": "markdown",
   "metadata": {},
   "source": [
    "## <center> Homework3 - IE7275 - Group1 </center>"
   ]
  },
  {
   "cell_type": "code",
   "execution_count": 1,
   "metadata": {},
   "outputs": [],
   "source": [
    "#importing libraries\n",
    "import numpy as np\n",
    "import pandas as pd\n",
    "from sklearn.decomposition import PCA\n",
    "from sklearn.metrics import *\n",
    "from matplotlib import pyplot as plt\n",
    "import seaborn as sns\n",
    "import sklearn.metrics as metrics"
   ]
  },
  {
   "cell_type": "markdown",
   "metadata": {},
   "source": [
    "# Problem 1 - Part A"
   ]
  },
  {
   "cell_type": "code",
   "execution_count": 2,
   "metadata": {},
   "outputs": [
    {
     "name": "stdout",
     "output_type": "stream",
     "text": [
      "Eigen Values:\n",
      " [4.73243698 2.51108093 1.45424187 0.92416587 0.85804868 0.64528221\n",
      " 0.55414147 0.10396199 0.35046627 0.16972374 0.29051203 0.22706428\n",
      " 0.25232001]\n",
      "\n",
      "Eigen Vectors:\n",
      " [[-0.1443294   0.48365155  0.20738262 -0.0178563  -0.26566365  0.21353865\n",
      "   0.05639636 -0.01496997  0.39613926 -0.26628645 -0.50861912 -0.22591696\n",
      "   0.21160473]\n",
      " [ 0.24518758  0.22493093 -0.08901289  0.53689028  0.03521363  0.53681385\n",
      "  -0.42052391 -0.02596375  0.06582674  0.12169604  0.07528304  0.07648554\n",
      "  -0.30907994]\n",
      " [ 0.00205106  0.31606881 -0.6262239  -0.21417556 -0.14302547  0.15447466\n",
      "   0.14917061  0.14121803 -0.17026002 -0.04962237  0.30769445 -0.49869142\n",
      "  -0.02712539]\n",
      " [ 0.23932041 -0.0105905  -0.61208035  0.06085941  0.06610294 -0.10082451\n",
      "   0.28696914 -0.09168285  0.42797018 -0.05574287 -0.20044931  0.47931378\n",
      "   0.05279942]\n",
      " [-0.14199204  0.299634   -0.13075693 -0.35179658  0.72704851  0.03814394\n",
      "  -0.3228833  -0.05677422 -0.15636143  0.06222011 -0.27140257  0.07128891\n",
      "   0.06787022]\n",
      " [-0.39466085  0.06503951 -0.14617896  0.19806835 -0.14931841 -0.0841223\n",
      "   0.02792498  0.46390791 -0.40593409 -0.30388245 -0.28603452  0.30434119\n",
      "  -0.32013135]\n",
      " [-0.4229343  -0.00335981 -0.1506819   0.15229479 -0.10902584 -0.01892002\n",
      "   0.06068521 -0.83225706 -0.18724536 -0.04289883 -0.04957849 -0.02569409\n",
      "  -0.16315051]\n",
      " [ 0.2985331   0.02877949 -0.17036816 -0.20330102 -0.50070298 -0.25859401\n",
      "  -0.59544729 -0.11403985 -0.23328465  0.04235219 -0.19550132  0.11689586\n",
      "   0.21553507]\n",
      " [-0.31342949  0.03930172 -0.14945431  0.39905653  0.13685982 -0.53379539\n",
      "  -0.37213935  0.11691707  0.36822675 -0.09555303  0.20914487 -0.23736257\n",
      "   0.1341839 ]\n",
      " [ 0.0886167   0.52999567  0.13730621  0.06592568 -0.07643678 -0.41864414\n",
      "   0.22771214  0.0119928  -0.03379692  0.60422163 -0.05621752  0.0318388\n",
      "  -0.29077518]\n",
      " [-0.29671456 -0.27923515 -0.08522192 -0.42777141 -0.17361452  0.10598274\n",
      "  -0.23207564  0.08988884  0.43662362  0.259214   -0.08582839 -0.04821201\n",
      "  -0.52239889]\n",
      " [-0.37616741 -0.16449619 -0.16600459  0.18412074 -0.10116099  0.26585107\n",
      "   0.0447637   0.15671813 -0.07810789  0.60095872 -0.1372269   0.0464233\n",
      "   0.52370587]\n",
      " [-0.28675223  0.36490283  0.12674592 -0.23207086 -0.1578688   0.11972557\n",
      "  -0.0768045  -0.01444734  0.12002267 -0.07940162  0.57578611  0.53926983\n",
      "   0.162116  ]]\n"
     ]
    }
   ],
   "source": [
    "df_wine = pd.read_csv('wine.csv')\n",
    "\n",
    "# Standarard Scaling without Sklearn\n",
    "df_X_std = np.array(df_wine.iloc[:,0:13])\n",
    "for i in range(0,13):\n",
    "    df_X_std[:,i] = (df_X_std[:,i] - np.mean(df_X_std[:,i]))/np.std(df_X_std[:,i])\n",
    "\n",
    "# Finding the covariance matrix\n",
    "cov_mat= np.cov(df_X_std, rowvar=False) \n",
    "\n",
    "# eigenvalues and eigenvectors\n",
    "cov_mat = np.cov(df_X_std.T) \n",
    "eig_vals, eig_vecs = np.linalg.eig(cov_mat) \n",
    "print(\"Eigen Values:\\n\",eig_vals)\n",
    "print(\"\\nEigen Vectors:\\n\",eig_vecs)"
   ]
  },
  {
   "cell_type": "code",
   "execution_count": 3,
   "metadata": {},
   "outputs": [
    {
     "name": "stdout",
     "output_type": "stream",
     "text": [
      "\n",
      " 13.073446327683618\n",
      "\n",
      "\n",
      "1. Variance Explained\n",
      " [36.19884809992635, 19.207490257008924, 11.123630536249998, 7.069030182714033, 6.563293679648598, 4.935823319222561, 4.238679322623328, 2.6807489483788642, 2.222153404789708, 1.9300190939440798, 1.7368356899899147, 1.2982325756042157, 0.7952148898994494]\n",
      "\n",
      "\n",
      "2. Cumulative Variance Explained\n",
      " [ 36.1988481   55.40633836  66.52996889  73.59899908  80.16229276\n",
      "  85.09811607  89.3367954   92.01754435  94.23969775  96.16971684\n",
      "  97.90655253  99.20478511 100.        ]\n",
      "\n",
      "\n",
      "3. Percentage of variance the first two principal components each contain\n",
      "  [36.19884809992635, 19.207490257008924]\n",
      "\n",
      "\n",
      "4. Percentage of variance the first two principal components together contain\n",
      " 55.40633835693528\n"
     ]
    }
   ],
   "source": [
    "sum_eig = sum(eig_vals) \n",
    "print(\"\\n\",sum_eig)\n",
    "var_exp = [(i / sum_eig)*100 for i in sorted(eig_vals, reverse=True)] \n",
    "print(\"\\n\\n1. Variance Explained\\n\",var_exp) \n",
    "cum_var_exp = np.cumsum(var_exp) \n",
    "print(\"\\n\\n2. Cumulative Variance Explained\\n\",cum_var_exp) \n",
    "print(\"\\n\\n3. Percentage of variance the first two principal components each contain\\n \",var_exp[0:2]) \n",
    "print(\"\\n\\n4. Percentage of variance the first two principal components together contain\\n\",sum(var_exp[0:2]))"
   ]
  },
  {
   "cell_type": "code",
   "execution_count": 4,
   "metadata": {},
   "outputs": [
    {
     "data": {
      "text/html": [
       "<div>\n",
       "<style scoped>\n",
       "    .dataframe tbody tr th:only-of-type {\n",
       "        vertical-align: middle;\n",
       "    }\n",
       "\n",
       "    .dataframe tbody tr th {\n",
       "        vertical-align: top;\n",
       "    }\n",
       "\n",
       "    .dataframe thead th {\n",
       "        text-align: right;\n",
       "    }\n",
       "</style>\n",
       "<table border=\"1\" class=\"dataframe\">\n",
       "  <thead>\n",
       "    <tr style=\"text-align: right;\">\n",
       "      <th></th>\n",
       "      <th>principal component 1</th>\n",
       "      <th>principal component 2</th>\n",
       "      <th>target</th>\n",
       "    </tr>\n",
       "  </thead>\n",
       "  <tbody>\n",
       "    <tr>\n",
       "      <td>0</td>\n",
       "      <td>-3.316751</td>\n",
       "      <td>1.443463</td>\n",
       "      <td>0</td>\n",
       "    </tr>\n",
       "    <tr>\n",
       "      <td>1</td>\n",
       "      <td>-2.209465</td>\n",
       "      <td>-0.333393</td>\n",
       "      <td>0</td>\n",
       "    </tr>\n",
       "    <tr>\n",
       "      <td>2</td>\n",
       "      <td>-2.516740</td>\n",
       "      <td>1.031151</td>\n",
       "      <td>0</td>\n",
       "    </tr>\n",
       "    <tr>\n",
       "      <td>3</td>\n",
       "      <td>-3.757066</td>\n",
       "      <td>2.756372</td>\n",
       "      <td>0</td>\n",
       "    </tr>\n",
       "    <tr>\n",
       "      <td>4</td>\n",
       "      <td>-1.008908</td>\n",
       "      <td>0.869831</td>\n",
       "      <td>0</td>\n",
       "    </tr>\n",
       "  </tbody>\n",
       "</table>\n",
       "</div>"
      ],
      "text/plain": [
       "   principal component 1  principal component 2  target\n",
       "0              -3.316751               1.443463       0\n",
       "1              -2.209465              -0.333393       0\n",
       "2              -2.516740               1.031151       0\n",
       "3              -3.757066               2.756372       0\n",
       "4              -1.008908               0.869831       0"
      ]
     },
     "execution_count": 4,
     "metadata": {},
     "output_type": "execute_result"
    }
   ],
   "source": [
    "# Select the eigenvectors of the principal components\n",
    "eigen_vec_reshaped = np.hstack((eig_vecs[:,0].reshape(13,1), eig_vecs[:,1].reshape(13,1))) \n",
    "df_wine_pca = df_X_std.dot(eigen_vec_reshaped) \n",
    "principalDf = pd.DataFrame(data = df_wine_pca , columns = ['principal component 1', 'principal component 2']) \n",
    "final_transformed_Df = pd.concat([principalDf,pd.DataFrame(df_wine,columns = ['target'])], axis = 1) \n",
    "final_transformed_Df.head()"
   ]
  },
  {
   "cell_type": "markdown",
   "metadata": {},
   "source": [
    "# Problem 1- Part B"
   ]
  },
  {
   "cell_type": "code",
   "execution_count": 5,
   "metadata": {},
   "outputs": [],
   "source": [
    "df_raw_wine = pd.read_csv('wine.csv')\n",
    "df_raw_array = np.array(df_raw_wine.iloc[:,0:13])"
   ]
  },
  {
   "cell_type": "code",
   "execution_count": 6,
   "metadata": {},
   "outputs": [
    {
     "data": {
      "text/html": [
       "<div>\n",
       "<style scoped>\n",
       "    .dataframe tbody tr th:only-of-type {\n",
       "        vertical-align: middle;\n",
       "    }\n",
       "\n",
       "    .dataframe tbody tr th {\n",
       "        vertical-align: top;\n",
       "    }\n",
       "\n",
       "    .dataframe thead th {\n",
       "        text-align: right;\n",
       "    }\n",
       "</style>\n",
       "<table border=\"1\" class=\"dataframe\">\n",
       "  <thead>\n",
       "    <tr style=\"text-align: right;\">\n",
       "      <th></th>\n",
       "      <th>principal component 1</th>\n",
       "      <th>principal component 2</th>\n",
       "      <th>principal component 2</th>\n",
       "      <th>target</th>\n",
       "    </tr>\n",
       "  </thead>\n",
       "  <tbody>\n",
       "    <tr>\n",
       "      <td>0</td>\n",
       "      <td>318.562979</td>\n",
       "      <td>21.492131</td>\n",
       "      <td>3.130735</td>\n",
       "      <td>0</td>\n",
       "    </tr>\n",
       "    <tr>\n",
       "      <td>1</td>\n",
       "      <td>303.097420</td>\n",
       "      <td>-5.364718</td>\n",
       "      <td>6.822835</td>\n",
       "      <td>0</td>\n",
       "    </tr>\n",
       "    <tr>\n",
       "      <td>2</td>\n",
       "      <td>438.061133</td>\n",
       "      <td>-6.537309</td>\n",
       "      <td>-1.113223</td>\n",
       "      <td>0</td>\n",
       "    </tr>\n",
       "    <tr>\n",
       "      <td>3</td>\n",
       "      <td>733.240139</td>\n",
       "      <td>0.192729</td>\n",
       "      <td>-0.917257</td>\n",
       "      <td>0</td>\n",
       "    </tr>\n",
       "    <tr>\n",
       "      <td>4</td>\n",
       "      <td>-11.571428</td>\n",
       "      <td>18.489995</td>\n",
       "      <td>-0.554422</td>\n",
       "      <td>0</td>\n",
       "    </tr>\n",
       "  </tbody>\n",
       "</table>\n",
       "</div>"
      ],
      "text/plain": [
       "   principal component 1  principal component 2  principal component 2  target\n",
       "0             318.562979              21.492131               3.130735       0\n",
       "1             303.097420              -5.364718               6.822835       0\n",
       "2             438.061133              -6.537309              -1.113223       0\n",
       "3             733.240139               0.192729              -0.917257       0\n",
       "4             -11.571428              18.489995              -0.554422       0"
      ]
     },
     "execution_count": 6,
     "metadata": {},
     "output_type": "execute_result"
    }
   ],
   "source": [
    "pca_raw = PCA(n_components=3)\n",
    "principalComponents_raw = pca_raw.fit_transform(df_raw_array)\n",
    "principalDf_raw = pd.DataFrame(data = principalComponents_raw\n",
    "             , columns = ['principal component 1', 'principal component 2','principal component 2'])\n",
    "final_transformed_Df_raw = pd.concat([principalDf_raw,pd.DataFrame(df_wine,columns = ['target'])], axis = 1) \n",
    "final_transformed_Df_raw.head()"
   ]
  },
  {
   "cell_type": "code",
   "execution_count": 7,
   "metadata": {},
   "outputs": [
    {
     "name": "stdout",
     "output_type": "stream",
     "text": [
      "Explained variance:  [9.92017895e+04 1.72535266e+02 9.43811370e+00]\n",
      "Cumulative proportion of variance: [0.99809123 0.99982715 0.99992211]\n",
      "Proportion variance: [9.98091230e-01 1.73591562e-03 9.49589576e-05]\n"
     ]
    }
   ],
   "source": [
    "#Explained Variance\n",
    "print(\"Explained variance: \", pca_raw.explained_variance_)\n",
    "#cumulative proportion of variance\n",
    "print (\"Cumulative proportion of variance:\", pca_raw.explained_variance_ratio_.cumsum())\n",
    "# proportion variance\n",
    "print(\"Proportion variance:\", pca_raw.explained_variance_ratio_)"
   ]
  },
  {
   "cell_type": "markdown",
   "metadata": {},
   "source": [
    "# Problem 1- Part C"
   ]
  },
  {
   "cell_type": "code",
   "execution_count": 8,
   "metadata": {},
   "outputs": [
    {
     "data": {
      "text/html": [
       "<div>\n",
       "<style scoped>\n",
       "    .dataframe tbody tr th:only-of-type {\n",
       "        vertical-align: middle;\n",
       "    }\n",
       "\n",
       "    .dataframe tbody tr th {\n",
       "        vertical-align: top;\n",
       "    }\n",
       "\n",
       "    .dataframe thead th {\n",
       "        text-align: right;\n",
       "    }\n",
       "</style>\n",
       "<table border=\"1\" class=\"dataframe\">\n",
       "  <thead>\n",
       "    <tr style=\"text-align: right;\">\n",
       "      <th></th>\n",
       "      <th>principal component 1</th>\n",
       "      <th>principal component 2</th>\n",
       "      <th>principal component 3</th>\n",
       "      <th>target</th>\n",
       "    </tr>\n",
       "  </thead>\n",
       "  <tbody>\n",
       "    <tr>\n",
       "      <td>0</td>\n",
       "      <td>3.316751</td>\n",
       "      <td>-1.443463</td>\n",
       "      <td>-0.165739</td>\n",
       "      <td>0</td>\n",
       "    </tr>\n",
       "    <tr>\n",
       "      <td>1</td>\n",
       "      <td>2.209465</td>\n",
       "      <td>0.333393</td>\n",
       "      <td>-2.026457</td>\n",
       "      <td>0</td>\n",
       "    </tr>\n",
       "    <tr>\n",
       "      <td>2</td>\n",
       "      <td>2.516740</td>\n",
       "      <td>-1.031151</td>\n",
       "      <td>0.982819</td>\n",
       "      <td>0</td>\n",
       "    </tr>\n",
       "    <tr>\n",
       "      <td>3</td>\n",
       "      <td>3.757066</td>\n",
       "      <td>-2.756372</td>\n",
       "      <td>-0.176192</td>\n",
       "      <td>0</td>\n",
       "    </tr>\n",
       "    <tr>\n",
       "      <td>4</td>\n",
       "      <td>1.008908</td>\n",
       "      <td>-0.869831</td>\n",
       "      <td>2.026688</td>\n",
       "      <td>0</td>\n",
       "    </tr>\n",
       "  </tbody>\n",
       "</table>\n",
       "</div>"
      ],
      "text/plain": [
       "   principal component 1  principal component 2  principal component 3  target\n",
       "0               3.316751              -1.443463              -0.165739       0\n",
       "1               2.209465               0.333393              -2.026457       0\n",
       "2               2.516740              -1.031151               0.982819       0\n",
       "3               3.757066              -2.756372              -0.176192       0\n",
       "4               1.008908              -0.869831               2.026688       0"
      ]
     },
     "execution_count": 8,
     "metadata": {},
     "output_type": "execute_result"
    }
   ],
   "source": [
    "pca_std = PCA(n_components=3)\n",
    "principalComponents_std = pca_std.fit_transform(df_X_std)\n",
    "principalDf_std = pd.DataFrame(data = principalComponents_std\n",
    "             , columns = ['principal component 1', 'principal component 2','principal component 3'])\n",
    "final_transformed_Df_std = pd.concat([principalDf_std,pd.DataFrame(df_wine,columns = ['target'])], axis = 1) \n",
    "final_transformed_Df_std.head()"
   ]
  },
  {
   "cell_type": "code",
   "execution_count": 9,
   "metadata": {},
   "outputs": [
    {
     "name": "stdout",
     "output_type": "stream",
     "text": [
      "Explained variance: [4.73243698 2.51108093 1.45424187]\n",
      "Cumulative proportion of variance: [0.36198848 0.55406338 0.66529969]\n",
      "proportion variance: [0.36198848 0.1920749  0.11123631]\n"
     ]
    }
   ],
   "source": [
    "#Explained Variance\n",
    "print(\"Explained variance:\", pca_std.explained_variance_)\n",
    "#cumulative proportion of variance\n",
    "print (\"Cumulative proportion of variance:\" ,pca_std.explained_variance_ratio_.cumsum())\n",
    "# proportion variance\n",
    "print(\"proportion variance:\", pca_std.explained_variance_ratio_)"
   ]
  },
  {
   "cell_type": "markdown",
   "metadata": {},
   "source": [
    "# Problem 1 - Part D"
   ]
  },
  {
   "cell_type": "markdown",
   "metadata": {},
   "source": [
    "The PCA always calculates a new projection of our dataset. Therefore the new axis will be based on our standard deviation of variables. Hence, a variable with a high standard deviation will have a higher weight for the calculation of axis than a variable with a low standard deviation. If we normalize our data, all variables will have the same standard deviation, thus all variables have the same weight and our PCA will calculate the relevant axis.\n",
    "\n",
    "So in problem 1 -Part B, we have used Raw data. Therefore, here it looks like component one explains most of the variance in the data. However, when we have normalized our data in Problem 1 -PartC, it is clear that the other components contribute as well. The reason for this is because PCA seeks to maximize the variance of each component."
   ]
  },
  {
   "cell_type": "markdown",
   "metadata": {},
   "source": [
    "# Problem 1 - Part E"
   ]
  },
  {
   "cell_type": "code",
   "execution_count": 10,
   "metadata": {},
   "outputs": [
    {
     "data": {
      "text/plain": [
       "<matplotlib.axes._subplots.AxesSubplot at 0x7f8fc645f890>"
      ]
     },
     "execution_count": 10,
     "metadata": {},
     "output_type": "execute_result"
    },
    {
     "data": {
      "image/png": "[encoded data removed]",
      "text/plain": [
       "<Figure size 432x288 with 1 Axes>"
      ]
     },
     "metadata": {
      "needs_background": "light"
     },
     "output_type": "display_data"
    }
   ],
   "source": [
    "sns.scatterplot(data=final_transformed_Df_std,x=\"principal component 1\", y=\"principal component 2\", hue = \"target\", palette=\"tab10\")"
   ]
  },
  {
   "cell_type": "markdown",
   "metadata": {},
   "source": [
    "From above scatter plot it is clear that PC1 and PC2 has almost zero correlation.\n",
    "The data is divided into two clusters by the first main component. The wine data from target 0 is in the left cluster. We can see there are a few outliers, such as target 1's PC1 score being higher than the other targets (0 and 2). Target value 1 has higher PCA values compare to Traget value 0 and Target value 2. Most of the PCA values of Target value 1 is above 1.\n"
   ]
  },
  {
   "cell_type": "markdown",
   "metadata": {},
   "source": [
    "# Problem 2"
   ]
  },
  {
   "cell_type": "code",
   "execution_count": 38,
   "metadata": {},
   "outputs": [
    {
     "name": "stdout",
     "output_type": "stream",
     "text": [
      "Enter size of both vector\n",
      "3\n",
      "\n",
      "Enter the numbers into first vector\n",
      "1\n",
      "2\n",
      "3\n",
      "\n",
      "Enter the numbers into second vector\n",
      "2\n",
      "2\n",
      "3\n",
      "Average Error(AE): -0.3333333333333333\n",
      "Mean Absolute Error(MAE) : 0.3333333333333333\n",
      "Mean Absolute Percentage Error(MAPE): 33.333333333333336\n",
      "Root Mean Square Error(RMSE): 0.5773502691896257\n",
      "Sume Of Square Error(SSE): 1.0\n"
     ]
    }
   ],
   "source": [
    "def perform_evalu_metrics(actual: np.ndarray, predicted: np.ndarray):\n",
    "    n = len(actual)\n",
    "    error = actual - predicted\n",
    "    percentage_error = (error/ actual)*100\n",
    "    mse = np.mean(np.square(error))\n",
    "    rmse = np.sqrt(mse) \n",
    "    ae = sum((error))/n\n",
    "    mae = np.mean(np.abs(error))\n",
    "    mape = np.mean(np.abs(percentage_error))\n",
    "    ssr = sum(np.square((error)))\n",
    "    \n",
    "    print(\"Average Error(AE):\", ae)\n",
    "    print(\"Mean Absolute Error(MAE) :\",mae)\n",
    "    print(\"Mean Absolute Percentage Error(MAPE):\",mape)\n",
    "    print(\"Root Mean Square Error(RMSE):\",rmse)\n",
    "    print(\"Sume Of Square Error(SSE):\",ssr) \n",
    "\n",
    "print(\"Enter size of both vector\")\n",
    "num_of_ele = np.int(input())\n",
    "\n",
    "print(\"\\nEnter the numbers into first vector\")\n",
    "actual = []\n",
    "for i in range(0,num_of_ele):\n",
    "    actual.append(input())\n",
    "\n",
    "print(\"\\nEnter the numbers into second vector\")\n",
    "predicted = []\n",
    "for i in range(0,num_of_ele):\n",
    "    predicted.append(input())    \n",
    "    \n",
    "\n",
    "perform_evalu_metrics(np.array(actual).astype(np.float),np.array(predicted).astype(np.float))"
   ]
  },
  {
   "cell_type": "markdown",
   "metadata": {},
   "source": [
    "# Problem 3"
   ]
  },
  {
   "cell_type": "code",
   "execution_count": 39,
   "metadata": {},
   "outputs": [
    {
     "name": "stdout",
     "output_type": "stream",
     "text": [
      "Enter size of both vectors\n",
      "4\n",
      "\n",
      "Enter the numbers into first vector\n",
      "0\n",
      "1\n",
      "1\n",
      "1\n",
      "\n",
      "Enter the numbers into second vector\n",
      "1\n",
      "0\n",
      "1\n",
      "0\n",
      "TP: 1 FP: 1 FN: 2 TN: 0\n",
      "confusion matrix : \n",
      " [[0 1]\n",
      " [2 1]]\n",
      "Overall Accuracy : 0.25\n",
      "Sensitivity 0.3333333333333333\n",
      "Specificity 0.0\n",
      "Matthews Correlation Coefficient -0.5773502691896258\n",
      "F1 Score 0.4\n"
     ]
    }
   ],
   "source": [
    "print(\"Enter size of both vectors\")\n",
    "num_of_ele = np.int(input())\n",
    "print(\"\\nEnter the numbers into first vector\")\n",
    "y_actual = []\n",
    "for i in range(0,num_of_ele):\n",
    "    y_actual.append(input())\n",
    "    \n",
    "print(\"\\nEnter the numbers into second vector\")\n",
    "y_pred = []\n",
    "for i in range(0,num_of_ele):\n",
    "    y_pred.append(input())\n",
    "\n",
    "def perf_measure(y_actual, y_pred):\n",
    "    TP = 0\n",
    "    FP = 0\n",
    "    TN = 0\n",
    "    FN = 0\n",
    "    \n",
    "    y_actual = np.array(y_actual).astype(np.int)\n",
    "    y_pred = np.array(y_pred).astype(np.int)\n",
    "    \n",
    "    if(not(np.array_equal(y_actual, y_actual.astype(bool)) and np.array_equal(y_pred, y_pred.astype(bool)))):\n",
    "        print(np.array_equal(y_actual, y_actual.astype(bool)))\n",
    "        print(np.array_equal(y_pred, y_pred.astype(bool)))\n",
    "        return \"Non-binary classification result detected\"       \n",
    "    else:\n",
    "        for i in range(len(y_pred)):      \n",
    "            if y_actual[i]==y_pred[i]==1:\n",
    "               TP += 1\n",
    "            if y_pred[i]==1 and y_actual[i]!=y_pred[i]:\n",
    "               FP += 1\n",
    "            if y_actual[i]==y_pred[i]==0:\n",
    "               TN += 1\n",
    "            if y_pred[i]==0 and y_actual[i]!=y_pred[i]:\n",
    "               FN += 1  \n",
    "\n",
    "        try:\n",
    "            print(\"TP:\", TP, \"FP:\",FP, \"FN:\",FN, \"TN:\",TN )\n",
    "            print(\"confusion matrix : \\n\",np.array([[TN,FP],[FN,TP]]))\n",
    "            print(\"Overall Accuracy :\",(TP + TN) / (TP + FP + FN + TN))\n",
    "            SE = TP/(TP + FN)\n",
    "            SP = TN/(TN + FP)\n",
    "            print(\"Sensitivity\",SE)\n",
    "            print(\"Specificity\",SP)\n",
    "            print(\"Matthews Correlation Coefficient\",((TN*TP)- (FN*FP))/np.sqrt((TP+FP)*(TP+FN)*(TN+FP)*(TN+FN)))\n",
    "            print(\"F1 Score\",(2 * TP )/ (2*TP + FP + FN))\n",
    "        except:\n",
    "            print(\"Zero Sum Division error\")\n",
    "    \n",
    "perf_measure(y_actual, y_pred)"
   ]
  },
  {
   "cell_type": "markdown",
   "metadata": {},
   "source": [
    "# Problem 4"
   ]
  },
  {
   "cell_type": "code",
   "execution_count": 11,
   "metadata": {},
   "outputs": [
    {
     "data": {
      "text/plain": [
       "<matplotlib.legend.Legend at 0x7f8fc78c5290>"
      ]
     },
     "execution_count": 11,
     "metadata": {},
     "output_type": "execute_result"
    },
    {
     "data": {
      "image/png": "[encoded data removed]",
      "text/plain": [
       "<Figure size 360x360 with 1 Axes>"
      ]
     },
     "metadata": {
      "needs_background": "light"
     },
     "output_type": "display_data"
    }
   ],
   "source": [
    "df_twitt=pd.read_excel(\"twitter.xlsx\")\n",
    "\n",
    "from sklearn.metrics import roc_curve, auc\n",
    "# compute ROC curve and AUC\n",
    "fpr, tpr, _ = roc_curve(df_twitt['Actual Class'], df_twitt['Probability of Fake(F) from the Model'],pos_label='F')\n",
    "roc_auc = auc(fpr, tpr)\n",
    "plt.figure(figsize=[5, 5])\n",
    "plt.plot(fpr, tpr, color='darkorange',\n",
    "         lw=2, label='ROC curve (area = %0.4f)' % roc_auc)\n",
    "plt.plot([0, 1], [0, 1], color='navy', lw=2, linestyle='--')\n",
    "plt.xlabel('False Positive Rate (1 - Specificity)')\n",
    "plt.ylabel('True Positive Rate (Sensitivity)')\n",
    "plt.legend(loc=\"lower right\")"
   ]
  },
  {
   "cell_type": "markdown",
   "metadata": {},
   "source": [
    "Most of the time ROC curves are used to show the connection between sensitivity and specificity for every possible cut-off for a test. So here our area is 0.9161, which implies our model is able to classify Fake tweets. Hence from the ROC curve, we can say that our model is more inclined towards a true positive rate."
   ]
  }
 ],
 "metadata": {
  "kernelspec": {
   "display_name": "Python 3",
   "language": "python",
   "name": "python3"
  },
  "language_info": {
   "codemirror_mode": {
    "name": "ipython",
    "version": 3
   },
   "file_extension": ".py",
   "mimetype": "text/x-python",
   "name": "python",
   "nbconvert_exporter": "python",
   "pygments_lexer": "ipython3",
   "version": "3.7.4"
  }
 },
 "nbformat": 4,
 "nbformat_minor": 2
}
